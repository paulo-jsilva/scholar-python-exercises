{
 "cells": [
  {
   "cell_type": "markdown",
   "metadata": {},
   "source": [
    "# Warmup\n",
    "\n",
    "Examples:\n",
    "</br>\n",
    "common_elements({1, 2, 3}, {2}) -> True\n",
    "</br>\n",
    "common_elements({1, 2, 3}, {'a', 'b', 'c'}) -> False\n",
    "</br>\n",
    "common_elements({1, 2, 3}, {'a', 1, 'hi!'}) -> True"
   ]
  },
  {
   "cell_type": "code",
   "execution_count": 2,
   "metadata": {},
   "outputs": [],
   "source": [
    "import numpy as np\n",
    "import matplotlib.pyplot as plt\n",
    "import pandas as pd"
   ]
  },
  {
   "cell_type": "code",
   "execution_count": 224,
   "metadata": {},
   "outputs": [],
   "source": [
    "def common_elements(reference, match):\n",
    "       \n",
    "    return any([True for element1 in match for element2 in reference if element1 == element2])"
   ]
  },
  {
   "cell_type": "code",
   "execution_count": 460,
   "metadata": {},
   "outputs": [
    {
     "name": "stdout",
     "output_type": "stream",
     "text": [
      "True\n"
     ]
    }
   ],
   "source": [
    "#Test\n",
    "print(common_elements({1, 2, 3}, {3, '2', 'hi!'}))"
   ]
  },
  {
   "cell_type": "markdown",
   "metadata": {},
   "source": [
    "## Exercise 1\n",
    "Dot Product </br>\n",
    "Implemented without numpy library"
   ]
  },
  {
   "cell_type": "code",
   "execution_count": 402,
   "metadata": {},
   "outputs": [],
   "source": [
    "def matrix_multiply(m1, m2):\n",
    "\n",
    "    mProd = []\n",
    "    element = []\n",
    "    \n",
    "    elementProd = 0\n",
    "    currentCol = 0\n",
    "    \n",
    "    # number of columns of 1st matrix \n",
    "    # must be equal \n",
    "    # to number of rows of 2nd matrix\n",
    "    if not any(['exit' for i in m1 if len(i) != len(m2)]):\n",
    "\n",
    "        # total number of columns of 2st matrix\n",
    "        colsm2 = [len(k) for k in m2][0]\n",
    "\n",
    "        for row, list in enumerate(m1):\n",
    "            \n",
    "            # number of columns of 2nd matrix \n",
    "            # must be equal to number of rows of 1st matrix\n",
    "            for col in range(currentCol, colsm2):\n",
    "            \n",
    "                for i in range(0, len(list)):\n",
    "                \n",
    "                    elementProd = elementProd + (m1[row][i] * m2[i][col])\n",
    "                \n",
    "                element.append(elementProd)\n",
    "                elementProd = 0\n",
    "            \n",
    "            mProd.insert(row, element)\n",
    "            \n",
    "            element = []\n",
    "            currentCol = 0\n",
    "\n",
    "    else:\n",
    "        mProd.append('Matrices'' sizes must match')\n",
    "    \n",
    "    return mProd"
   ]
  },
  {
   "cell_type": "code",
   "execution_count": 404,
   "metadata": {},
   "outputs": [
    {
     "name": "stdout",
     "output_type": "stream",
     "text": [
      "[[30]]\n"
     ]
    }
   ],
   "source": [
    "m1 = [[1, 2, 3]]\n",
    "m2 = [[1], [4], [7]]\n",
    "\n",
    "#m1 = [[1, 2, 3], [4, 5, 6]]\n",
    "#m2 = [[1, 2], [5, 6], [8, 9]]\n",
    "\n",
    "print(matrix_multiply(m1, m2))"
   ]
  },
  {
   "cell_type": "markdown",
   "metadata": {},
   "source": [
    "## Exercise 3\n",
    "Linear Algebra - with numpy library </br>\n",
    "only exercise 3.1 was implemented as remaining were straighforward"
   ]
  },
  {
   "cell_type": "code",
   "execution_count": 415,
   "metadata": {},
   "outputs": [
    {
     "name": "stdout",
     "output_type": "stream",
     "text": [
      "[1. 2. 0.]\n"
     ]
    },
    {
     "data": {
      "text/plain": [
       "True"
      ]
     },
     "execution_count": 415,
     "metadata": {},
     "output_type": "execute_result"
    }
   ],
   "source": [
    "import numpy as np\n",
    "\n",
    "matrix = np.array([[3, 2, 1], [4, 5, 2], [2, 4, 3]])\n",
    "solutions = np.array([7, 14, 10])\n",
    "x = np.linalg.solve(matrix, solutions)\n",
    "\n",
    "print(x)\n",
    "\n",
    "np.allclose(np.dot(matrix, x), solutions)"
   ]
  },
  {
   "cell_type": "markdown",
   "metadata": {},
   "source": [
    "## Exercise 4\n",
    "Is it Prime?"
   ]
  },
  {
   "cell_type": "code",
   "execution_count": 468,
   "metadata": {},
   "outputs": [],
   "source": [
    "def check_prime(number):\n",
    "\n",
    "    # If you don’t find a factor until n/2, we can’t find one beyond n/2 either\n",
    "    return all([False for i in range(2, int(number / 2)) if (number % i) == 0])\n"
   ]
  },
  {
   "cell_type": "code",
   "execution_count": 470,
   "metadata": {},
   "outputs": [
    {
     "data": {
      "text/plain": [
       "False"
      ]
     },
     "execution_count": 470,
     "metadata": {},
     "output_type": "execute_result"
    }
   ],
   "source": [
    "check_prime(39)"
   ]
  }
 ],
 "metadata": {
  "kernelspec": {
   "display_name": "Python 3.9.5 64-bit",
   "language": "python",
   "name": "python3"
  },
  "language_info": {
   "codemirror_mode": {
    "name": "ipython",
    "version": 3
   },
   "file_extension": ".py",
   "mimetype": "text/x-python",
   "name": "python",
   "nbconvert_exporter": "python",
   "pygments_lexer": "ipython3",
   "version": "3.9.5"
  },
  "orig_nbformat": 4,
  "vscode": {
   "interpreter": {
    "hash": "5aa25243cdfbf6cc238593ed68e17f9cec857370096da952dcdda6a0cf72a7c5"
   }
  }
 },
 "nbformat": 4,
 "nbformat_minor": 2
}
